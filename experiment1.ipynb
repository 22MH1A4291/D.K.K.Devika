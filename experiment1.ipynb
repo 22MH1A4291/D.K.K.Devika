{
  "nbformat": 4,
  "nbformat_minor": 0,
  "metadata": {
    "colab": {
      "provenance": [],
      "authorship_tag": "ABX9TyNiSL4dvt5vfZlNUOEqp3OD",
      "include_colab_link": true
    },
    "kernelspec": {
      "name": "python3",
      "display_name": "Python 3"
    },
    "language_info": {
      "name": "python"
    }
  },
  "cells": [
    {
      "cell_type": "markdown",
      "metadata": {
        "id": "view-in-github",
        "colab_type": "text"
      },
      "source": [
        "<a href=\"https://colab.research.google.com/github/22MH1A4291/D.K.K.Devika/blob/main/experiment1.ipynb\" target=\"_parent\"><img src=\"https://colab.research.google.com/assets/colab-badge.svg\" alt=\"Open In Colab\"/></a>"
      ]
    },
    {
      "cell_type": "markdown",
      "source": [
        " Given a 2D array arr, extract the second column."
      ],
      "metadata": {
        "id": "3k9VqMeRTHSS"
      }
    },
    {
      "cell_type": "code",
      "execution_count": 3,
      "metadata": {
        "colab": {
          "base_uri": "https://localhost:8080/"
        },
        "id": "RJLqc75ZS9tn",
        "outputId": "3f49e405-0e31-4e70-b2de-b80d34ca147c"
      },
      "outputs": [
        {
          "output_type": "stream",
          "name": "stdout",
          "text": [
            "[2 5 8]\n"
          ]
        }
      ],
      "source": [
        "import numpy as np\n",
        "arr=np.array([[1,2,3],[4,5,6],[7,8,9]])\n",
        "second_column=arr[:,1]\n",
        "print(second_column)"
      ]
    },
    {
      "cell_type": "markdown",
      "source": [
        "Extract a subarray from a 3x3 matrix that includes the first and second rows and the second and third columns.\n"
      ],
      "metadata": {
        "id": "8RwQDomrU9IG"
      }
    },
    {
      "cell_type": "code",
      "source": [
        "import numpy as np\n",
        "arr=np.array([[1,2,3],[4,5,6],[7,8,9]])\n",
        "subarray=arr[0:2,1:3]\n",
        "print(subarray)"
      ],
      "metadata": {
        "colab": {
          "base_uri": "https://localhost:8080/"
        },
        "id": "0ADB4TpKVCMK",
        "outputId": "d5431be0-2365-49a8-8d64-7642e3dce651"
      },
      "execution_count": 5,
      "outputs": [
        {
          "output_type": "stream",
          "name": "stdout",
          "text": [
            "[[2 3]\n",
            " [5 6]]\n"
          ]
        }
      ]
    },
    {
      "cell_type": "markdown",
      "source": [
        "Given a 3D array, transpose the first and second dimensions.\n"
      ],
      "metadata": {
        "id": "meS4LLq6VjyS"
      }
    },
    {
      "cell_type": "code",
      "source": [
        "import numpy as np\n",
        "arr = np.array([[[1, 2, 3, 4],[5, 6, 7, 8],[9, 10, 11, 12]],[[13, 14, 15, 16],[17, 18, 19, 20],[21, 22, 23, 24]]])\n",
        "transposed_array=np.transpose(arr,(1,0,2))\n",
        "print(transposed_array)"
      ],
      "metadata": {
        "colab": {
          "base_uri": "https://localhost:8080/"
        },
        "id": "QVzSowqsVnFw",
        "outputId": "c5476db7-781f-4e6f-858e-f46ddef3a387"
      },
      "execution_count": 15,
      "outputs": [
        {
          "output_type": "stream",
          "name": "stdout",
          "text": [
            "[[[ 1  2  3  4]\n",
            "  [13 14 15 16]]\n",
            "\n",
            " [[ 5  6  7  8]\n",
            "  [17 18 19 20]]\n",
            "\n",
            " [[ 9 10 11 12]\n",
            "  [21 22 23 24]]]\n"
          ]
        }
      ]
    },
    {
      "cell_type": "markdown",
      "source": [
        "Transpose a 2D array and then extract a specific row from the transposed result\n"
      ],
      "metadata": {
        "id": "6nfQoKqKTEzw"
      }
    },
    {
      "cell_type": "code",
      "source": [
        "import numpy as np\n",
        "arr=np.array([[1,2,3],[4,5,6],[7,8,9]])\n",
        "transposed_arr=np.transpose(arr)\n",
        "specific_row=transposed_arr[2, :]\n",
        "print(specific_row)"
      ],
      "metadata": {
        "colab": {
          "base_uri": "https://localhost:8080/"
        },
        "id": "n6C0lUKeXY-5",
        "outputId": "cf31969b-78f5-4a7e-98f1-00b7e332d59c"
      },
      "execution_count": 11,
      "outputs": [
        {
          "output_type": "stream",
          "name": "stdout",
          "text": [
            "[3 6 9]\n"
          ]
        }
      ]
    },
    {
      "cell_type": "markdown",
      "source": [
        "Given a 3D array, extract a 2x2 matrix from the second \"layer\" (2D array) using appropriate indexing."
      ],
      "metadata": {
        "id": "5wP4t8xkYtsT"
      }
    },
    {
      "cell_type": "code",
      "source": [
        "import numpy as np\n",
        "arr = np.array([[[1, 2, 3, 4],[5, 6, 7, 8],[9, 10, 11, 12]],[[13, 14, 15, 16],[17, 18, 19, 20],[21, 22, 23, 24]]])\n",
        "matrix_from_second_layer=arr[1,0:2,0:2]\n",
        "print(matrix_from_second_layer)"
      ],
      "metadata": {
        "colab": {
          "base_uri": "https://localhost:8080/"
        },
        "id": "o260Fi77YyXv",
        "outputId": "af4e6b95-fbc9-4dcb-c2e0-51b9791ea935"
      },
      "execution_count": 14,
      "outputs": [
        {
          "output_type": "stream",
          "name": "stdout",
          "text": [
            "[[13 14]\n",
            " [17 18]]\n"
          ]
        }
      ]
    }
  ]
}